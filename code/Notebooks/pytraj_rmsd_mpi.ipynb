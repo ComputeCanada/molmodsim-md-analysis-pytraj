{
 "cells": [
  {
   "cell_type": "markdown",
   "metadata": {},
   "source": [
    "## Distributed parallel RMSD calculation with pytraj "
   ]
  },
  {
   "cell_type": "markdown",
   "metadata": {},
   "source": [
    "#### Load python modules"
   ]
  },
  {
   "cell_type": "code",
   "execution_count": 6,
   "metadata": {},
   "outputs": [],
   "source": [
    "import pytraj as pt\n",
    "import numpy as np\n",
    "from matplotlib import pyplot as plt\n",
    "import seaborn as sns\n",
    "import pickle"
   ]
  },
  {
   "cell_type": "markdown",
   "metadata": {},
   "source": [
    "#### Change directory to the location of the trajectory file."
   ]
  },
  {
   "cell_type": "code",
   "execution_count": null,
   "metadata": {},
   "outputs": [],
   "source": [
    "%cd ~/scratch/workshop/pdb/6N4O/simulation/sim_pmemd/4-production"
   ]
  },
  {
   "cell_type": "markdown",
   "metadata": {},
   "source": [
    "#### Create job submission file \"rmsd.py\""
   ]
  },
  {
   "cell_type": "code",
   "execution_count": null,
   "metadata": {},
   "outputs": [],
   "source": [
    "%%file rmsd.py\n",
    "\n",
    "import pytraj as pt\n",
    "import pickle\n",
    "from mpi4py import MPI\n",
    "\n",
    "# initialize MPI \n",
    "comm = MPI.COMM_WORLD\n",
    "\n",
    "# get the rank of the process\n",
    "rank = comm.rank\n",
    "\n",
    "# load the trajectory file\n",
    "traj=pt.iterload('mdcrd_nowat.nc', top='prmtop_nowat.parm7') \n",
    "ref_coor = pt.load('inpcrd_nowat.pdb')\n",
    "\n",
    "# call pmap_mpi function for MPI.\n",
    "# we dont need to specify the nuber of CPUs, \n",
    "# because we will use srun to run the script\n",
    "data = pt.pmap_mpi(pt.rmsd, traj, mask='@C,N,O', ref=ref_coor)\n",
    "\n",
    "# pmap_mpi sends data to rank 0\n",
    "# rank 0 saves data \n",
    "if rank == 0:\n",
    "    with open(\"rmsd.dat\", \"wb\") as fp: \n",
    "         pickle.dump(data, fp)\n"
   ]
  },
  {
   "cell_type": "markdown",
   "metadata": {},
   "source": [
    "#### Run MPI job on the cluster"
   ]
  },
  {
   "cell_type": "code",
   "execution_count": 9,
   "metadata": {},
   "outputs": [],
   "source": [
    "!srun python rmsd.py"
   ]
  },
  {
   "cell_type": "markdown",
   "metadata": {},
   "source": [
    "#### Load data"
   ]
  },
  {
   "cell_type": "code",
   "execution_count": 10,
   "metadata": {},
   "outputs": [],
   "source": [
    "with open(\"rmsd.dat\", \"rb\") as fp: \n",
    "    data=pickle.load(fp)\n",
    "rmsd=data.get('RMSD_00001')"
   ]
  },
  {
   "cell_type": "markdown",
   "metadata": {},
   "source": [
    "#### Define the time axis for the RMSD plot"
   ]
  },
  {
   "cell_type": "code",
   "execution_count": null,
   "metadata": {},
   "outputs": [],
   "source": [
    "time=np.linspace(0,1.999,2000)"
   ]
  },
  {
   "cell_type": "markdown",
   "metadata": {},
   "source": [
    "#### Set seaborn plot theme parameters"
   ]
  },
  {
   "cell_type": "code",
   "execution_count": 12,
   "metadata": {},
   "outputs": [],
   "source": [
    "sns.set_theme()\n",
    "sns.set_style(\"darkgrid\")"
   ]
  },
  {
   "cell_type": "markdown",
   "metadata": {},
   "source": [
    "#### Plot RMSD"
   ]
  },
  {
   "cell_type": "code",
   "execution_count": null,
   "metadata": {},
   "outputs": [],
   "source": [
    "plt.plot(time,rmsd)\n",
    "plt.xlabel(\"Time, ns\")\n",
    "plt.ylabel(\"RMSD, $ \\AA $\")"
   ]
  }
 ],
 "metadata": {
  "kernelspec": {
   "display_name": "env-pytraj",
   "language": "python",
   "name": "env-pytraj"
  },
  "language_info": {
   "codemirror_mode": {
    "name": "ipython",
    "version": 3
   },
   "file_extension": ".py",
   "mimetype": "text/x-python",
   "name": "python",
   "nbconvert_exporter": "python",
   "pygments_lexer": "ipython3",
   "version": "3.8.2"
  }
 },
 "nbformat": 4,
 "nbformat_minor": 5
}
