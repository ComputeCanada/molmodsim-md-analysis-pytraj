{
 "cells": [
  {
   "cell_type": "markdown",
   "metadata": {},
   "source": [
    "# Dynamic cross-correlation analysis"
   ]
  },
  {
   "cell_type": "code",
   "execution_count": null,
   "metadata": {},
   "outputs": [],
   "source": [
    "import pytraj as pt\n",
    "import nglview as nv\n",
    "import numpy as np\n",
    "import matplotlib.pyplot as plt\n",
    "import seaborn as sns"
   ]
  },
  {
   "cell_type": "code",
   "execution_count": null,
   "metadata": {
    "scrolled": true
   },
   "outputs": [],
   "source": [
    "%cd ~/scratch/workshop/pdb/6N4O/simulation/sim_pmemd/4-production"
   ]
  },
  {
   "cell_type": "markdown",
   "metadata": {},
   "source": [
    "In this lesson we will analyze two fragments of the simulation system:\n",
    "1. Protein fragment (residues 50-150).\n",
    "2. Nucleic acids."
   ]
  },
  {
   "cell_type": "markdown",
   "metadata": {},
   "source": [
    "## Visualize the whole system\n",
    "Let's visualize the whole system before running correlation analysis. This will help to understand where the fragments of the system chosen for analysis are located. "
   ]
  },
  {
   "cell_type": "markdown",
   "metadata": {},
   "source": [
    "- Load 20 equispaced frames from the 2 ns - long trajectory for visualization   \n",
    "- Move atoms back into the initial box\n",
    "- Center the view using alpha carbon atoms of the protein. "
   ]
  },
  {
   "cell_type": "code",
   "execution_count": null,
   "metadata": {},
   "outputs": [],
   "source": [
    "trj_viz=pt.iterload('mdcrd_nowat.nc', top='prmtop_nowat.parm7', frame_slice=[(0,1999,100)])\n",
    "trj_viz=trj_viz.autoimage()\n",
    "trj_viz.center('@CA origin')"
   ]
  },
  {
   "cell_type": "markdown",
   "metadata": {},
   "source": [
    "- Create view of the loaded data\n",
    "- Set orthographic projection\n",
    "- Remove the default ball/stick representation \n",
    "- Add nucleic acids represented with tube\n",
    "- Add protein surface\n",
    "- Add protein residues 50-150 represented with cartoon"
   ]
  },
  {
   "cell_type": "code",
   "execution_count": null,
   "metadata": {},
   "outputs": [],
   "source": [
    "view1 = trj_viz.visualize()\n",
    "view1.camera='orthographic'\n",
    "view1.clear()\n",
    "view1.add_tube('nucleic')\n",
    "view1.add_hyperball('nucleic and not hydrogen', colorScheme=\"element\")\n",
    "view1.add_surface('protein', color='grey', opacity=0.3)\n",
    "view1.add_cartoon('50-150', color='cyan')"
   ]
  },
  {
   "cell_type": "markdown",
   "metadata": {},
   "source": [
    "- Display the view"
   ]
  },
  {
   "cell_type": "code",
   "execution_count": null,
   "metadata": {},
   "outputs": [],
   "source": [
    "view1"
   ]
  },
  {
   "cell_type": "markdown",
   "metadata": {},
   "source": [
    "## 1. Analyze dynamic cross-correlation map for the protein atoms.  \n",
    "We will use residues 50-100, these residues represent a fragment of the protein molecule.\n",
    "- Load all trajectory frames for analysis "
   ]
  },
  {
   "cell_type": "code",
   "execution_count": null,
   "metadata": {},
   "outputs": [],
   "source": [
    "traj=pt.iterload('mdcrd_nowat.nc', top='prmtop_nowat.parm7')"
   ]
  },
  {
   "cell_type": "markdown",
   "metadata": {},
   "source": [
    "- Calculate correlation matrix for residues 50-150"
   ]
  },
  {
   "cell_type": "code",
   "execution_count": null,
   "metadata": {},
   "outputs": [],
   "source": [
    "corrmat=pt.atomiccorr(traj, mask=\":50-150 and not hydrogen\")"
   ]
  },
  {
   "cell_type": "markdown",
   "metadata": {},
   "source": [
    "- Plot correlation matrix using heat map\n",
    "- Set center of the color scale to 0"
   ]
  },
  {
   "cell_type": "code",
   "execution_count": null,
   "metadata": {
    "scrolled": false
   },
   "outputs": [],
   "source": [
    "sns.heatmap(corrmat, center=0, xticklabels=5, yticklabels=5, square=True)\n",
    "# center=0, square=True"
   ]
  },
  {
   "cell_type": "markdown",
   "metadata": {},
   "source": [
    "### Intrepretation of the correlation map\n",
    "- Close to diagonal are interaction between neighbours\n",
    "- Off-diagonal correlations are due to the specific protein folding pattern\n",
    "- Are there any negative correlations? Try rescale and plot only negative correlations (use vmax=0)."
   ]
  },
  {
   "cell_type": "markdown",
   "metadata": {},
   "source": [
    "## 2. Calculate dynamic cross-correlation map for the nucleic acids.\n",
    "In this example we will compare cross-correlation maps computed for different time windows of the molecular dynamics trajectory, and learn how to plot positive and negative correlations in one figure."
   ]
  },
  {
   "cell_type": "markdown",
   "metadata": {},
   "source": [
    "### Visualize nucleic acids \n",
    "- Create view \n",
    "- Set orthographic projection\n",
    "- Remove the default representation\n",
    "- Add nucleic backbone represented with tube\n",
    "- Add nucleic acids represented with hyperball to the view\n",
    "- Open the interactive view"
   ]
  },
  {
   "cell_type": "code",
   "execution_count": null,
   "metadata": {},
   "outputs": [],
   "source": [
    "view = trj_viz.visualize()\n",
    "view.camera='orthographic'\n",
    "view.clear()\n",
    "view.add_tube('nucleic')\n",
    "view.add_hyperball('nucleic and not hydrogen', colorScheme=\"element\")"
   ]
  },
  {
   "cell_type": "code",
   "execution_count": null,
   "metadata": {},
   "outputs": [],
   "source": [
    "view"
   ]
  },
  {
   "cell_type": "markdown",
   "metadata": {},
   "source": [
    "- To find the numbers of the first and the last nucleic acid residue hover with the mouse cursor over the terminal atoms."
   ]
  },
  {
   "cell_type": "markdown",
   "metadata": {},
   "source": [
    "### Compute correlation map for frames 1-500"
   ]
  },
  {
   "cell_type": "markdown",
   "metadata": {},
   "source": [
    "As this chunk of the trajectory is already loaded, we just need to recompute the correlation matrix using different atom mask."
   ]
  },
  {
   "cell_type": "code",
   "execution_count": null,
   "metadata": {},
   "outputs": [],
   "source": [
    "corrmat1=pt.atomiccorr(traj, mask =\":860-898 and not hydrogen\")"
   ]
  },
  {
   "cell_type": "markdown",
   "metadata": {},
   "source": [
    "### Compute correlation map for frames 1600-1999\n",
    "\n",
    "Load the second chunk of the trajectory and compute the correlation matrix"
   ]
  },
  {
   "cell_type": "code",
   "execution_count": null,
   "metadata": {},
   "outputs": [],
   "source": [
    "traj2 = pt.iterload('mdcrd_nowat.nc', top='prmtop_nowat.parm7', frame_slice=[(1600, 2000)])\n",
    "corrmat2=pt.atomiccorr(traj2, mask =\":860-898 and not hydrogen\")"
   ]
  },
  {
   "cell_type": "markdown",
   "metadata": {},
   "source": [
    "### Create lower and upper triangular masks\n",
    "\n",
    "Weak negative correlations are hard to see in one figure. Using separate color maps for negative and positive correlations can help to show weaker negative correlations clearly.\n",
    "To achieve this we can set the minimum value for the positive plot, and the maximum value for the negative plot to zero. \n",
    "\n",
    "We can then combine plots of positive and negative correlations in one plot by showing positive correlations in the upper triangle of the correlation map, and negative correlations in the lower triangle. This can be achieved by removing the lower triangle from the plot of positive correlations, and removing the upper triangle from the plot of negative correlations. To do this we need to create masks for upper and lower triangles."
   ]
  },
  {
   "cell_type": "code",
   "execution_count": null,
   "metadata": {},
   "outputs": [],
   "source": [
    "maskl = np.tril(np.ones_like(corrmat1, dtype=bool))\n",
    "masku = np.triu(np.ones_like(corrmat1, dtype=bool))"
   ]
  },
  {
   "cell_type": "markdown",
   "metadata": {},
   "source": [
    "### Try different color schemes"
   ]
  },
  {
   "cell_type": "code",
   "execution_count": null,
   "metadata": {},
   "outputs": [],
   "source": [
    "#cmap=sns.diverging_palette(250, 30, l=65, center=\"dark\", as_cmap=True)\n",
    "cmap=sns.diverging_palette(220, 20, as_cmap=True)\n",
    "#cmap=sns.color_palette(\"coolwarm\", as_cmap=True)\n",
    "#cmap=sns.color_palette(\"Spectral\", as_cmap=True).reversed()\n",
    "#cmap=sns.diverging_palette(145, 300, s=60, as_cmap=True)"
   ]
  },
  {
   "cell_type": "markdown",
   "metadata": {},
   "source": [
    "### Plot correlation maps for two trajectory time windows"
   ]
  },
  {
   "cell_type": "code",
   "execution_count": null,
   "metadata": {},
   "outputs": [],
   "source": [
    "#  Create figure with two subplots.\n",
    "fig, (ax1,ax2) = plt.subplots(2, figsize=(9,9))\n",
    "\n",
    "# Plot correlation map for frames 1-500 (axis ax1)\n",
    "# First plot positive correlations (vmin=0), then negative (vmax=0)\n",
    "\n",
    "sns.heatmap(corrmat1, mask=maskl, cmap=cmap, center=0.0,vmin=0.0,\n",
    "            square=True, xticklabels=2, yticklabels=2, ax=ax1)\n",
    "sns.heatmap(corrmat1, mask=masku, cmap=cmap, center=0.0, vmax=0.0,\n",
    "            square=True,ax=ax1)\n",
    "\n",
    "# Plot correlation map for frames 1600-1999 (axis ax2)\n",
    "# First plot positive correlations (vmin=0), then negative (vmax=0)\n",
    "\n",
    "sns.heatmap(corrmat2, mask=maskl, cmap=cmap, center=0.0,vmin=0.0,\n",
    "            square=True, xticklabels=2, yticklabels=2, ax=ax2)\n",
    "sns.heatmap(corrmat2, mask=masku, cmap=cmap, center=0.0, vmax=0.0,\n",
    "            square=True,ax=ax2)"
   ]
  },
  {
   "cell_type": "markdown",
   "metadata": {},
   "source": [
    "### Interpretation of the map features \n",
    "- Correlations between neighbours do not exist between chains (21 is not correlated with 22)\n",
    "- Off diagonal correlations correspond to hydrogen bonds between the two RNA chains\n",
    "- Negative correlations change with time"
   ]
  }
 ],
 "metadata": {
  "kernelspec": {
   "display_name": "env-pytraj",
   "language": "python",
   "name": "env-pytraj"
  },
  "language_info": {
   "codemirror_mode": {
    "name": "ipython",
    "version": 3
   },
   "file_extension": ".py",
   "mimetype": "text/x-python",
   "name": "python",
   "nbconvert_exporter": "python",
   "pygments_lexer": "ipython3",
   "version": "3.8.2"
  }
 },
 "nbformat": 4,
 "nbformat_minor": 4
}
