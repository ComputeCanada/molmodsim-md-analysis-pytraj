{
 "cells": [
  {
   "cell_type": "markdown",
   "metadata": {},
   "source": [
    "## Principal component analysis"
   ]
  },
  {
   "cell_type": "code",
   "execution_count": null,
   "metadata": {},
   "outputs": [],
   "source": [
    "import pytraj as pt\n",
    "import nglview as nv\n",
    "import numpy as np\n",
    "import parmed\n",
    "from matplotlib import pyplot as plt"
   ]
  },
  {
   "cell_type": "code",
   "execution_count": null,
   "metadata": {
    "scrolled": true
   },
   "outputs": [],
   "source": [
    "%cd ~/scratch/workshop/pdb/6N4O/simulation/sim_pmemd/4-production"
   ]
  },
  {
   "cell_type": "markdown",
   "metadata": {},
   "source": [
    "Load all trajectory frames for analysis "
   ]
  },
  {
   "cell_type": "code",
   "execution_count": null,
   "metadata": {},
   "outputs": [],
   "source": [
    "frames=pt.iterload('mdcrd_nowat.nc', top = 'prmtop_nowat.parm7')\n",
    "frames = frames.autoimage()"
   ]
  },
  {
   "cell_type": "markdown",
   "metadata": {},
   "source": [
    "### Perform PCA analysis\n",
    "\n",
    "- Analyze 39 nucleic acid residues, 6 backbone atoms in each residue. The total number of atoms included in the analysis is 234, so eigenvectors will be 234 elements long.\n",
    "- Request calculations of the three first principal components  "
   ]
  },
  {
   "cell_type": "code",
   "execution_count": null,
   "metadata": {},
   "outputs": [],
   "source": [
    "data = pt.pca(frames, mask=\":860-898@O3',C3',C4',C5',O5',P\", n_vecs=5)"
   ]
  },
  {
   "cell_type": "markdown",
   "metadata": {},
   "source": [
    "- The results are saved in the structure *data*\n",
    "- Projection values of each frame to each of the 5 modes are saved in the arrays data[0][0], ... , data[0][4]\n",
    "- Eigvenvalues of the first 5 modes are saved in the array data[1][0]\n",
    "- Eigvenvectors of first 5 modes are saved in the arrays data[1][1][0], ... , data[1][1][4]"
   ]
  },
  {
   "cell_type": "code",
   "execution_count": null,
   "metadata": {},
   "outputs": [],
   "source": [
    "print('Projection values of each frame to the first mode = {} \\n'.format(data[0][0]))\n",
    "print('Eigvenvalues of the first 5 modes:\\n', data[1][0])\n",
    "print('Eigvenvector of the first mode:\\n', data[1][1][0])"
   ]
  },
  {
   "cell_type": "markdown",
   "metadata": {},
   "source": [
    "- Plot projection of each frame on the first two modes\n",
    "- Color by frame number\n",
    "\n",
    "[Available color maps](https://matplotlib.org/3.1.0/tutorials/colors/colormaps.html)"
   ]
  },
  {
   "cell_type": "code",
   "execution_count": null,
   "metadata": {},
   "outputs": [],
   "source": [
    "plt.scatter(data[0][0], data[0][1], cmap='viridis', marker='o', c=range(frames.n_frames), alpha=0.5)\n",
    "plt.xlabel('PC1')\n",
    "plt.ylabel('PC2')\n",
    "cbar = plt.colorbar()\n",
    "cbar.set_label('frame #')"
   ]
  },
  {
   "cell_type": "markdown",
   "metadata": {},
   "source": [
    "The graph shows that the first component separates data into two clusters. The first cluster existed in the beginning of the simulation, and later in the simulation the average projection on this component shifted from 10 to -5. This example trajectory is too short for any reliable conclusion. The results suggest that the system may not yet reached equilibrium."
   ]
  },
  {
   "cell_type": "markdown",
   "metadata": {},
   "source": [
    "### Save data for visualization with VMD plugin Normal Mode Wizard"
   ]
  },
  {
   "cell_type": "markdown",
   "metadata": {},
   "source": [
    "Create topology matching atom selections that we used for PCA"
   ]
  },
  {
   "cell_type": "code",
   "execution_count": null,
   "metadata": {},
   "outputs": [],
   "source": [
    "top_nuc = pt.load('../../setup/inpcrd.pdb', mask =\":860-898@O3',C3',C4',C5',O5',P\")"
   ]
  },
  {
   "cell_type": "markdown",
   "metadata": {},
   "source": [
    "Convert coordinates (top_nuc.xyz) to a flat list"
   ]
  },
  {
   "cell_type": "code",
   "execution_count": null,
   "metadata": {},
   "outputs": [],
   "source": [
    "top_nuc.xyz"
   ]
  },
  {
   "cell_type": "code",
   "execution_count": null,
   "metadata": {},
   "outputs": [],
   "source": [
    "coords = list(np.concatenate(top_nuc.xyz).flat)"
   ]
  },
  {
   "cell_type": "code",
   "execution_count": null,
   "metadata": {},
   "outputs": [],
   "source": [
    "with open(\"modes.nmd\", \"w\") as outfile:\n",
    "    outfile.write(\"title PCA modes\\n\")\n",
    "    outfile.write(\"names {}\\n\".format(\" \".join(i.name for i in top_nuc.topology.atoms)))\n",
    "    outfile.write(\"resnames {}\\n\".format(\" \".join(i.resname for i in top_nuc.topology.atoms)))\n",
    "    outfile.write(\"chids {}\\n\".format(\" \".join(\"A\" for i in top_nuc.topology.atoms)))\n",
    "    outfile.write(\"resnums {}\\n\".format(\" \".join(str(i.resid) for i in top_nuc.topology.atoms)))\n",
    "    outfile.write(\"betas {}\\n\".format(\" \".join(\"50.0\" for i in top_nuc.topology.atoms)))\n",
    "    outfile.write(\"coordinates {}\\n\".format(\" \".join(str(i) for i in coords)))\n",
    "    outfile.write(\"mode 1 {}\\n\".format(\" \".join(str(i) for i in data[1][1][0])))\n",
    "    outfile.write(\"mode 2 {}\\n\".format(\" \".join(str(i) for i in data[1][1][1])))"
   ]
  }
 ],
 "metadata": {
  "kernelspec": {
   "display_name": "env-pytraj",
   "language": "python",
   "name": "env-pytraj"
  },
  "language_info": {
   "codemirror_mode": {
    "name": "ipython",
    "version": 3
   },
   "file_extension": ".py",
   "mimetype": "text/x-python",
   "name": "python",
   "nbconvert_exporter": "python",
   "pygments_lexer": "ipython3",
   "version": "3.8.2"
  }
 },
 "nbformat": 4,
 "nbformat_minor": 4
}
