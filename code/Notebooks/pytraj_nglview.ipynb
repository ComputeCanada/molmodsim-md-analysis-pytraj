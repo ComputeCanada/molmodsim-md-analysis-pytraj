{
 "cells": [
  {
   "cell_type": "markdown",
   "id": "efc5effd",
   "metadata": {},
   "source": [
    "## Interactive trajectory visualization with NGLView"
   ]
  },
  {
   "cell_type": "code",
   "execution_count": 27,
   "id": "b4a3d963",
   "metadata": {},
   "outputs": [],
   "source": [
    "import pytraj as pt\n",
    "import nglview as nv"
   ]
  },
  {
   "cell_type": "code",
   "execution_count": null,
   "id": "1ea3f0c3",
   "metadata": {},
   "outputs": [],
   "source": [
    "%cd ~/workshop_pytraj/example_02"
   ]
  },
  {
   "cell_type": "markdown",
   "id": "f849e8cf",
   "metadata": {},
   "source": [
    "Load MD trajectory "
   ]
  },
  {
   "cell_type": "code",
   "execution_count": null,
   "id": "24ea67fb",
   "metadata": {},
   "outputs": [],
   "source": [
    "traj=pt.iterload('mdcrd_nowat.xtc', top = 'prmtop_nowat.parm7')"
   ]
  },
  {
   "cell_type": "markdown",
   "id": "371835c7",
   "metadata": {},
   "source": [
    "Take care of the molecules that moved out of the initial box"
   ]
  },
  {
   "cell_type": "code",
   "execution_count": null,
   "id": "27cd405e",
   "metadata": {},
   "outputs": [],
   "source": [
    "traj=traj.autoimage()"
   ]
  },
  {
   "cell_type": "markdown",
   "id": "fdb4f20c",
   "metadata": {},
   "source": [
    "- The *autoimage* function will automatically center and image molecules/residues/atoms that are outside of the box back into the initial box.\n",
    "\n",
    "Center trajectory using protein CA atoms "
   ]
  },
  {
   "cell_type": "code",
   "execution_count": null,
   "id": "a41ff22b",
   "metadata": {},
   "outputs": [],
   "source": [
    "traj.center('@CA origin')"
   ]
  },
  {
   "cell_type": "markdown",
   "id": "7c5726a8",
   "metadata": {},
   "source": [
    "Create view"
   ]
  },
  {
   "cell_type": "code",
   "execution_count": null,
   "id": "590021fb",
   "metadata": {},
   "outputs": [],
   "source": [
    "view=nv.show_pytraj(traj)"
   ]
  },
  {
   "cell_type": "markdown",
   "id": "5efb6f56",
   "metadata": {},
   "source": [
    "Show view\n",
    "- The default representation is ball and sticks\n",
    "- The defaults selection is all atoms"
   ]
  },
  {
   "cell_type": "code",
   "execution_count": null,
   "id": "13834d07",
   "metadata": {},
   "outputs": [],
   "source": [
    "view"
   ]
  },
  {
   "cell_type": "code",
   "execution_count": null,
   "id": "ff9ca95a",
   "metadata": {},
   "outputs": [],
   "source": [
    "view2=nv.show_pytraj(traj)\n",
    "view2.clear()"
   ]
  },
  {
   "cell_type": "code",
   "execution_count": null,
   "id": "18bf8177",
   "metadata": {},
   "outputs": [],
   "source": [
    "view2.add_cartoon('protein', colorScheme=\"residueindex\", opacity=1.0)"
   ]
  },
  {
   "cell_type": "markdown",
   "id": "8b3cb7d8",
   "metadata": {},
   "source": [
    "- [Coloring schemes](https://nglviewer.org/ngl/api/manual/usage/coloring.html)"
   ]
  },
  {
   "cell_type": "code",
   "execution_count": null,
   "id": "2a21d8fc",
   "metadata": {},
   "outputs": [],
   "source": [
    "view2"
   ]
  },
  {
   "cell_type": "code",
   "execution_count": null,
   "id": "f2a62ec2",
   "metadata": {},
   "outputs": [],
   "source": [
    "view2.background=\"black\"\n",
    "view2.camera='orthographic'"
   ]
  },
  {
   "cell_type": "code",
   "execution_count": null,
   "id": "b2275f42",
   "metadata": {},
   "outputs": [],
   "source": [
    "view2.remove_cartoon()"
   ]
  },
  {
   "cell_type": "code",
   "execution_count": null,
   "id": "f843da8e",
   "metadata": {},
   "outputs": [],
   "source": [
    "view2.add_hyperball(':B or :C and not hydrogen', colorScheme=\"element\")"
   ]
  },
  {
   "cell_type": "markdown",
   "id": "e18b6f02",
   "metadata": {},
   "source": [
    "#### Trajectory player parameters"
   ]
  },
  {
   "cell_type": "code",
   "execution_count": null,
   "id": "09a28f64",
   "metadata": {},
   "outputs": [],
   "source": [
    "view2.player.parameters = dict(delay=0.5, step=1)\n",
    "view2.player.interpolate = True"
   ]
  },
  {
   "cell_type": "markdown",
   "id": "e302c4e0",
   "metadata": {},
   "source": [
    "- You can use GUI"
   ]
  },
  {
   "cell_type": "code",
   "execution_count": null,
   "id": "deafe921",
   "metadata": {
    "scrolled": true
   },
   "outputs": [],
   "source": [
    "view4=nv.show_pytraj(traj)\n",
    "view4.display(gui=True)"
   ]
  },
  {
   "cell_type": "markdown",
   "id": "15148d9f",
   "metadata": {},
   "source": [
    "- Use filter to select atoms  \n",
    "- Create nucleic representation\n",
    "- Use hamburger menu to change representation properties \n",
    "- Change `surfaceType` to av\n",
    "- Use `colorValue` to change color\n",
    "- Check wireframe box\n",
    "- Try full screen\n",
    "- Add nucleic representation hyperball"
   ]
  },
  {
   "cell_type": "markdown",
   "id": "b3e26ff9",
   "metadata": {},
   "source": [
    "- You can change size of the widget"
   ]
  },
  {
   "cell_type": "code",
   "execution_count": null,
   "id": "1491d001",
   "metadata": {},
   "outputs": [],
   "source": [
    "view3=nv.show_pytraj(traj)"
   ]
  },
  {
   "cell_type": "code",
   "execution_count": null,
   "id": "029f0025",
   "metadata": {},
   "outputs": [],
   "source": [
    "view3._remote_call('setSize', target='Widget', args=['700px', '440px'])"
   ]
  },
  {
   "cell_type": "code",
   "execution_count": null,
   "id": "4cb54bb1",
   "metadata": {},
   "outputs": [],
   "source": [
    "view3"
   ]
  },
  {
   "cell_type": "code",
   "execution_count": null,
   "id": "241f49cf",
   "metadata": {},
   "outputs": [],
   "source": [
    "view3.clear()"
   ]
  },
  {
   "cell_type": "markdown",
   "id": "6b73f4f5",
   "metadata": {},
   "source": [
    "- Add representations"
   ]
  },
  {
   "cell_type": "code",
   "execution_count": null,
   "id": "43670f61",
   "metadata": {
    "scrolled": true
   },
   "outputs": [],
   "source": [
    "view3.add_ball_and_stick('protein', opacity=0.3, color='grey')\n",
    "view3.add_hyperball(':B or :C and not hydrogen', colorScheme=\"element\")\n",
    "view3.add_tube(':B or :C and not hydrogen')\n",
    "view3.add_spacefill('MG',colorScheme='element')\n",
    "view3.camera='orthographic'"
   ]
  },
  {
   "cell_type": "markdown",
   "id": "9021c853",
   "metadata": {},
   "source": [
    "- Render and download image"
   ]
  },
  {
   "cell_type": "code",
   "execution_count": null,
   "id": "71b2ccef",
   "metadata": {},
   "outputs": [],
   "source": [
    "view3.download_image(filename='scene.png', factor=4, antialias='True', trim=True)"
   ]
  }
 ],
 "metadata": {
  "kernelspec": {
   "display_name": "env-pytraj",
   "language": "python",
   "name": "env-pytraj"
  },
  "language_info": {
   "codemirror_mode": {
    "name": "ipython",
    "version": 3
   },
   "file_extension": ".py",
   "mimetype": "text/x-python",
   "name": "python",
   "nbconvert_exporter": "python",
   "pygments_lexer": "ipython3",
   "version": "3.11.5"
  }
 },
 "nbformat": 4,
 "nbformat_minor": 5
}
